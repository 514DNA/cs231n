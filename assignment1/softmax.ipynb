{
 "cells": [
  {
   "cell_type": "markdown",
   "metadata": {
    "tags": [
     "pdf-title"
    ]
   },
   "source": [
    "# Softmax exercise\n",
    "\n",
    "*Complete and hand in this completed worksheet (including its outputs and any supporting code outside of the worksheet) with your assignment submission. For more details see the [assignments page](http://vision.stanford.edu/teaching/cs231n/assignments.html) on the course website.*\n",
    "\n",
    "This exercise is analogous to the SVM exercise. You will:\n",
    "\n",
    "- implement a fully-vectorized **loss function** for the Softmax classifier\n",
    "- implement the fully-vectorized expression for its **analytic gradient**\n",
    "- **check your implementation** with numerical gradient\n",
    "- use a validation set to **tune the learning rate and regularization** strength\n",
    "- **optimize** the loss function with **SGD**\n",
    "- **visualize** the final learned weights\n"
   ]
  },
  {
   "cell_type": "code",
   "execution_count": 1,
   "metadata": {
    "tags": [
     "pdf-ignore"
    ]
   },
   "outputs": [],
   "source": [
    "import random\n",
    "import numpy as np\n",
    "from cs231n.data_utils import load_CIFAR10\n",
    "import matplotlib.pyplot as plt\n",
    "\n",
    "%matplotlib inline\n",
    "plt.rcParams['figure.figsize'] = (10.0, 8.0) # set default size of plots\n",
    "plt.rcParams['image.interpolation'] = 'nearest'\n",
    "plt.rcParams['image.cmap'] = 'gray'\n",
    "\n",
    "# for auto-reloading extenrnal modules\n",
    "# see http://stackoverflow.com/questions/1907993/autoreload-of-modules-in-ipython\n",
    "%load_ext autoreload\n",
    "%autoreload 2"
   ]
  },
  {
   "cell_type": "code",
   "execution_count": 2,
   "metadata": {
    "tags": [
     "pdf-ignore"
    ]
   },
   "outputs": [
    {
     "name": "stdout",
     "output_type": "stream",
     "text": [
      "Train data shape:  (49000, 3073)\n",
      "Train labels shape:  (49000,)\n",
      "Validation data shape:  (1000, 3073)\n",
      "Validation labels shape:  (1000,)\n",
      "Test data shape:  (1000, 3073)\n",
      "Test labels shape:  (1000,)\n",
      "dev data shape:  (500, 3073)\n",
      "dev labels shape:  (500,)\n"
     ]
    }
   ],
   "source": [
    "def get_CIFAR10_data(num_training=49000, num_validation=1000, num_test=1000, num_dev=500):\n",
    "    \"\"\"\n",
    "    Load the CIFAR-10 dataset from disk and perform preprocessing to prepare\n",
    "    it for the linear classifier. These are the same steps as we used for the\n",
    "    SVM, but condensed to a single function.  \n",
    "    \"\"\"\n",
    "    # Load the raw CIFAR-10 data\n",
    "    cifar10_dir = 'cs231n/datasets/cifar-10-batches-py'\n",
    "    \n",
    "    # Cleaning up variables to prevent loading data multiple times (which may cause memory issue)\n",
    "    try:\n",
    "       del X_train, y_train\n",
    "       del X_test, y_test\n",
    "       print('Clear previously loaded data.')\n",
    "    except:\n",
    "       pass\n",
    "\n",
    "    X_train, y_train, X_test, y_test = load_CIFAR10(cifar10_dir)\n",
    "    \n",
    "    # subsample the data\n",
    "    mask = list(range(num_training, num_training + num_validation))\n",
    "    X_val = X_train[mask]\n",
    "    y_val = y_train[mask]\n",
    "    mask = list(range(num_training))\n",
    "    X_train = X_train[mask]\n",
    "    y_train = y_train[mask]\n",
    "    mask = list(range(num_test))\n",
    "    X_test = X_test[mask]\n",
    "    y_test = y_test[mask]\n",
    "    mask = np.random.choice(num_training, num_dev, replace=False)\n",
    "    X_dev = X_train[mask]\n",
    "    y_dev = y_train[mask]\n",
    "    \n",
    "    # Preprocessing: reshape the image data into rows\n",
    "    X_train = np.reshape(X_train, (X_train.shape[0], -1))\n",
    "    X_val = np.reshape(X_val, (X_val.shape[0], -1))\n",
    "    X_test = np.reshape(X_test, (X_test.shape[0], -1))\n",
    "    X_dev = np.reshape(X_dev, (X_dev.shape[0], -1))\n",
    "    \n",
    "    # Normalize the data: subtract the mean image\n",
    "    mean_image = np.mean(X_train, axis = 0)\n",
    "    X_train -= mean_image\n",
    "    X_val -= mean_image\n",
    "    X_test -= mean_image\n",
    "    X_dev -= mean_image\n",
    "    \n",
    "    # add bias dimension and transform into columns\n",
    "    X_train = np.hstack([X_train, np.ones((X_train.shape[0], 1))])\n",
    "    X_val = np.hstack([X_val, np.ones((X_val.shape[0], 1))])\n",
    "    X_test = np.hstack([X_test, np.ones((X_test.shape[0], 1))])\n",
    "    X_dev = np.hstack([X_dev, np.ones((X_dev.shape[0], 1))])\n",
    "    \n",
    "    return X_train, y_train, X_val, y_val, X_test, y_test, X_dev, y_dev\n",
    "\n",
    "\n",
    "# Invoke the above function to get our data.\n",
    "X_train, y_train, X_val, y_val, X_test, y_test, X_dev, y_dev = get_CIFAR10_data()\n",
    "print('Train data shape: ', X_train.shape)\n",
    "print('Train labels shape: ', y_train.shape)\n",
    "print('Validation data shape: ', X_val.shape)\n",
    "print('Validation labels shape: ', y_val.shape)\n",
    "print('Test data shape: ', X_test.shape)\n",
    "print('Test labels shape: ', y_test.shape)\n",
    "print('dev data shape: ', X_dev.shape)\n",
    "print('dev labels shape: ', y_dev.shape)"
   ]
  },
  {
   "cell_type": "markdown",
   "metadata": {},
   "source": [
    "## Softmax Classifier\n",
    "\n",
    "Your code for this section will all be written inside **cs231n/classifiers/softmax.py**. \n"
   ]
  },
  {
   "cell_type": "code",
   "execution_count": 3,
   "metadata": {},
   "outputs": [
    {
     "name": "stdout",
     "output_type": "stream",
     "text": [
      "loss: 2.314259\n",
      "sanity check: 2.302585\n"
     ]
    }
   ],
   "source": [
    "# First implement the naive softmax loss function with nested loops.\n",
    "# Open the file cs231n/classifiers/softmax.py and implement the\n",
    "# softmax_loss_naive function.\n",
    "\n",
    "from cs231n.classifiers.softmax import softmax_loss_naive\n",
    "import time\n",
    "\n",
    "# Generate a random softmax weight matrix and use it to compute the loss.\n",
    "W = np.random.randn(3073, 10) * 0.0001\n",
    "loss, grad = softmax_loss_naive(W, X_dev, y_dev, 0.0)\n",
    "\n",
    "# As a rough sanity check, our loss should be something close to -log(0.1).\n",
    "print('loss: %f' % loss)\n",
    "print('sanity check: %f' % (-np.log(0.1)))"
   ]
  },
  {
   "cell_type": "markdown",
   "metadata": {
    "tags": [
     "pdf-inline"
    ]
   },
   "source": [
    "**Inline Question 1**\n",
    "\n",
    "Why do we expect our loss to be close to -log(0.1)? Explain briefly.**\n",
    "\n",
    "$\\color{blue}{\\textit Your Answer:}$ *Fill this in* \n",
    "\n"
   ]
  },
  {
   "cell_type": "code",
   "execution_count": 39,
   "metadata": {},
   "outputs": [
    {
     "name": "stdout",
     "output_type": "stream",
     "text": [
      "numerical: 4.046255 analytic: -2.555010, relative error: 1.000000e+00\n",
      "numerical: -0.421319 analytic: -0.159764, relative error: 4.501171e-01\n",
      "numerical: 2.881654 analytic: -2.279704, relative error: 1.000000e+00\n",
      "numerical: 0.682938 analytic: 0.193325, relative error: 5.587517e-01\n",
      "numerical: 0.876678 analytic: -1.326707, relative error: 1.000000e+00\n",
      "numerical: -2.421318 analytic: 1.446144, relative error: 1.000000e+00\n",
      "numerical: -0.193436 analytic: 0.023718, relative error: 1.000000e+00\n",
      "numerical: 0.196924 analytic: -0.296382, relative error: 1.000000e+00\n",
      "numerical: 4.100188 analytic: -3.472949, relative error: 1.000000e+00\n",
      "numerical: -2.174147 analytic: 2.711870, relative error: 1.000000e+00\n",
      "numerical: -2.724730 analytic: 2.780513, relative error: 1.000000e+00\n",
      "numerical: -1.434214 analytic: 1.316567, relative error: 1.000000e+00\n",
      "numerical: -1.944297 analytic: 0.406781, relative error: 1.000000e+00\n",
      "numerical: -3.261979 analytic: 2.747132, relative error: 1.000000e+00\n",
      "numerical: 0.085642 analytic: -0.518027, relative error: 1.000000e+00\n",
      "numerical: -2.484122 analytic: 1.902283, relative error: 1.000000e+00\n",
      "numerical: 0.137936 analytic: -0.696715, relative error: 1.000000e+00\n",
      "numerical: 1.991184 analytic: -2.180247, relative error: 1.000000e+00\n",
      "numerical: 2.934452 analytic: -2.629068, relative error: 1.000000e+00\n",
      "numerical: 1.615259 analytic: -1.057500, relative error: 1.000000e+00\n"
     ]
    }
   ],
   "source": [
    "# Complete the implementation of softmax_loss_naive and implement a (naive)\n",
    "# version of the gradient that uses nested loops.\n",
    "loss, grad = softmax_loss_naive(W, X_dev, y_dev, 0.0)\n",
    "\n",
    "# As we did for the SVM, use numeric gradient checking as a debugging tool.\n",
    "# The numeric gradient should be close to the analytic gradient.\n",
    "from cs231n.gradient_check import grad_check_sparse\n",
    "f = lambda w: softmax_loss_naive(w, X_dev, y_dev, 0.0)[0]\n",
    "grad_numerical = grad_check_sparse(f, W, grad, 10)\n",
    "\n",
    "# similar to SVM case, do another gradient check with regularization\n",
    "loss, grad = softmax_loss_naive(W, X_dev, y_dev, 5e1)\n",
    "f = lambda w: softmax_loss_naive(w, X_dev, y_dev, 5e1)[0]\n",
    "grad_numerical = grad_check_sparse(f, W, grad, 10)"
   ]
  },
  {
   "cell_type": "code",
   "execution_count": 86,
   "metadata": {},
   "outputs": [
    {
     "name": "stdout",
     "output_type": "stream",
     "text": [
      "naive loss: 2.314259e+00 computed in 0.130425s\n",
      "vectorized loss: 2.314259e+00 computed in 0.004992s\n",
      "Loss difference: 0.000000\n",
      "Gradient difference: 0.000000\n"
     ]
    }
   ],
   "source": [
    "# Now that we have a naive implementation of the softmax loss function and its gradient,\n",
    "# implement a vectorized version in softmax_loss_vectorized.\n",
    "# The two versions should compute the same results, but the vectorized version should be\n",
    "# much faster.\n",
    "tic = time.time()\n",
    "loss_naive, grad_naive = softmax_loss_naive(W, X_dev, y_dev, 0.000005)\n",
    "toc = time.time()\n",
    "print('naive loss: %e computed in %fs' % (loss_naive, toc - tic))\n",
    "\n",
    "from cs231n.classifiers.softmax import softmax_loss_vectorized\n",
    "tic = time.time()\n",
    "loss_vectorized, grad_vectorized = softmax_loss_vectorized(W, X_dev, y_dev, 0.000005)\n",
    "toc = time.time()\n",
    "print('vectorized loss: %e computed in %fs' % (loss_vectorized, toc - tic))\n",
    "\n",
    "# As we did for the SVM, we use the Frobenius norm to compare the two versions\n",
    "# of the gradient.\n",
    "grad_difference = np.linalg.norm(grad_naive - grad_vectorized, ord='fro')\n",
    "print('Loss difference: %f' % np.abs(loss_naive - loss_vectorized))\n",
    "print('Gradient difference: %f' % grad_difference)"
   ]
  },
  {
   "cell_type": "code",
   "execution_count": 92,
   "metadata": {
    "tags": [
     "code"
    ]
   },
   "outputs": [
    {
     "name": "stdout",
     "output_type": "stream",
     "text": [
      "iteration 0 / 1500: loss 391.522661\n",
      "iteration 100 / 1500: loss 389.331092\n",
      "iteration 200 / 1500: loss 388.140956\n",
      "iteration 300 / 1500: loss 387.440530\n",
      "iteration 400 / 1500: loss 386.550164\n",
      "iteration 500 / 1500: loss 386.340409\n",
      "iteration 600 / 1500: loss 385.488333\n",
      "iteration 700 / 1500: loss 384.733125\n",
      "iteration 800 / 1500: loss 384.424592\n",
      "iteration 900 / 1500: loss 384.046911\n",
      "iteration 1000 / 1500: loss 383.628671\n",
      "iteration 1100 / 1500: loss 383.286051\n",
      "iteration 1200 / 1500: loss 382.828860\n",
      "iteration 1300 / 1500: loss 382.642092\n",
      "iteration 1400 / 1500: loss 381.965960\n",
      "iteration 0 / 1500: loss 773.012866\n",
      "iteration 100 / 1500: loss 769.688745\n",
      "iteration 200 / 1500: loss 768.238832\n",
      "iteration 300 / 1500: loss 766.351659\n",
      "iteration 400 / 1500: loss 765.472815\n",
      "iteration 500 / 1500: loss 764.642018\n",
      "iteration 600 / 1500: loss 763.823774\n",
      "iteration 700 / 1500: loss 762.542752\n",
      "iteration 800 / 1500: loss 761.704134\n",
      "iteration 900 / 1500: loss 761.030020\n",
      "iteration 1000 / 1500: loss 760.356240\n",
      "iteration 1100 / 1500: loss 759.763311\n",
      "iteration 1200 / 1500: loss 758.945800\n",
      "iteration 1300 / 1500: loss 758.329579\n",
      "iteration 1400 / 1500: loss 757.583412\n",
      "iteration 0 / 1500: loss 20.953414\n",
      "iteration 100 / 1500: loss 19.355705\n",
      "iteration 200 / 1500: loss 18.769326\n",
      "iteration 300 / 1500: loss 18.153788\n",
      "iteration 400 / 1500: loss 18.495589\n",
      "iteration 500 / 1500: loss 18.138384\n",
      "iteration 600 / 1500: loss 18.328053\n",
      "iteration 700 / 1500: loss 17.879278\n",
      "iteration 800 / 1500: loss 17.887500\n",
      "iteration 900 / 1500: loss 18.104670\n",
      "iteration 1000 / 1500: loss 17.800741\n",
      "iteration 1100 / 1500: loss 17.585065\n",
      "iteration 1200 / 1500: loss 17.542719\n",
      "iteration 1300 / 1500: loss 17.740396\n",
      "iteration 1400 / 1500: loss 17.619785\n",
      "iteration 0 / 1500: loss 391.917660\n",
      "iteration 100 / 1500: loss 385.855495\n",
      "iteration 200 / 1500: loss 383.423914\n",
      "iteration 300 / 1500: loss 381.388050\n",
      "iteration 400 / 1500: loss 379.993602\n",
      "iteration 500 / 1500: loss 378.666783\n",
      "iteration 600 / 1500: loss 377.207917\n",
      "iteration 700 / 1500: loss 376.025539\n",
      "iteration 800 / 1500: loss 374.993005\n",
      "iteration 900 / 1500: loss 373.741416\n",
      "iteration 1000 / 1500: loss 372.977070\n",
      "iteration 1100 / 1500: loss 371.915247\n",
      "iteration 1200 / 1500: loss 371.034203\n",
      "iteration 1300 / 1500: loss 370.165112\n",
      "iteration 1400 / 1500: loss 369.553181\n",
      "iteration 0 / 1500: loss 774.757052\n",
      "iteration 100 / 1500: loss 766.173637\n",
      "iteration 200 / 1500: loss 761.867571\n",
      "iteration 300 / 1500: loss 757.854622\n",
      "iteration 400 / 1500: loss 754.774881\n",
      "iteration 500 / 1500: loss 752.177141\n",
      "iteration 600 / 1500: loss 749.474517\n",
      "iteration 700 / 1500: loss 747.203589\n",
      "iteration 800 / 1500: loss 744.789254\n",
      "iteration 900 / 1500: loss 742.881017\n",
      "iteration 1000 / 1500: loss 740.752807\n",
      "iteration 1100 / 1500: loss 738.879773\n",
      "iteration 1200 / 1500: loss 737.207373\n",
      "iteration 1300 / 1500: loss 735.157008\n",
      "iteration 1400 / 1500: loss 733.646567\n",
      "iteration 0 / 1500: loss 20.624283\n",
      "iteration 100 / 1500: loss 18.137113\n",
      "iteration 200 / 1500: loss 17.467128\n",
      "iteration 300 / 1500: loss 17.331566\n",
      "iteration 400 / 1500: loss 17.361686\n",
      "iteration 500 / 1500: loss 17.187288\n",
      "iteration 600 / 1500: loss 17.126736\n",
      "iteration 700 / 1500: loss 17.024037\n",
      "iteration 800 / 1500: loss 16.904849\n",
      "iteration 900 / 1500: loss 16.904368\n",
      "iteration 1000 / 1500: loss 16.889930\n",
      "iteration 1100 / 1500: loss 16.624225\n",
      "iteration 1200 / 1500: loss 16.610136\n",
      "iteration 1300 / 1500: loss 16.548876\n",
      "iteration 1400 / 1500: loss 16.681931\n",
      "iteration 0 / 1500: loss 392.670623\n",
      "iteration 100 / 1500: loss 384.746039\n",
      "iteration 200 / 1500: loss 381.147445\n",
      "iteration 300 / 1500: loss 378.409792\n",
      "iteration 400 / 1500: loss 375.901522\n",
      "iteration 500 / 1500: loss 373.933147\n",
      "iteration 600 / 1500: loss 372.125587\n",
      "iteration 700 / 1500: loss 370.245292\n",
      "iteration 800 / 1500: loss 368.762101\n",
      "iteration 900 / 1500: loss 367.410835\n",
      "iteration 1000 / 1500: loss 366.273774\n",
      "iteration 1100 / 1500: loss 364.943730\n",
      "iteration 1200 / 1500: loss 363.788585\n",
      "iteration 1300 / 1500: loss 362.708628\n",
      "iteration 1400 / 1500: loss 361.646677\n",
      "iteration 0 / 1500: loss 776.257820\n",
      "iteration 100 / 1500: loss 761.788707\n",
      "iteration 200 / 1500: loss 754.927107\n",
      "iteration 300 / 1500: loss 749.553593\n",
      "iteration 400 / 1500: loss 744.941332\n",
      "iteration 500 / 1500: loss 740.607402\n",
      "iteration 600 / 1500: loss 736.805577\n",
      "iteration 700 / 1500: loss 733.448379\n",
      "iteration 800 / 1500: loss 730.170742\n",
      "iteration 900 / 1500: loss 727.273581\n",
      "iteration 1000 / 1500: loss 724.364142\n",
      "iteration 1100 / 1500: loss 721.920919\n",
      "iteration 1200 / 1500: loss 719.265874\n",
      "iteration 1300 / 1500: loss 717.152961\n",
      "iteration 1400 / 1500: loss 714.894329\n",
      "iteration 0 / 1500: loss 21.663611\n",
      "iteration 100 / 1500: loss 17.895416\n",
      "iteration 200 / 1500: loss 17.571373\n",
      "iteration 300 / 1500: loss 17.143124\n",
      "iteration 400 / 1500: loss 16.999850\n",
      "iteration 500 / 1500: loss 17.012226\n",
      "iteration 600 / 1500: loss 16.849221\n",
      "iteration 700 / 1500: loss 16.729556\n",
      "iteration 800 / 1500: loss 16.572016\n",
      "iteration 900 / 1500: loss 16.639376\n",
      "iteration 1000 / 1500: loss 16.339269\n",
      "iteration 1100 / 1500: loss 16.329467\n",
      "iteration 1200 / 1500: loss 16.459593\n",
      "iteration 1300 / 1500: loss 16.249738\n",
      "iteration 1400 / 1500: loss 16.272563\n",
      "lr 1.000000e-07 reg 1.000000e+03 train accuracy: 0.247633 val accuracy: 0.239000\n",
      "lr 1.000000e-07 reg 2.500000e+04 train accuracy: 0.246204 val accuracy: 0.233000\n",
      "lr 1.000000e-07 reg 5.000000e+04 train accuracy: 0.254510 val accuracy: 0.228000\n",
      "lr 5.000000e-07 reg 1.000000e+03 train accuracy: 0.322429 val accuracy: 0.303000\n",
      "lr 5.000000e-07 reg 2.500000e+04 train accuracy: 0.314612 val accuracy: 0.288000\n",
      "lr 5.000000e-07 reg 5.000000e+04 train accuracy: 0.316184 val accuracy: 0.300000\n",
      "lr 1.000000e-06 reg 1.000000e+03 train accuracy: 0.346592 val accuracy: 0.342000\n",
      "lr 1.000000e-06 reg 2.500000e+04 train accuracy: 0.344857 val accuracy: 0.342000\n",
      "lr 1.000000e-06 reg 5.000000e+04 train accuracy: 0.344265 val accuracy: 0.318000\n",
      "best validation accuracy achieved during cross-validation: 0.342000\n"
     ]
    }
   ],
   "source": [
    "# Use the validation set to tune hyperparameters (regularization strength and\n",
    "# learning rate). You should experiment with different ranges for the learning\n",
    "# rates and regularization strengths; if you are careful you should be able to\n",
    "# get a classification accuracy of over 0.35 on the validation set.\n",
    "from cs231n.classifiers import Softmax\n",
    "results = {}\n",
    "best_val = -1\n",
    "best_softmax = None\n",
    "learning_rates = [1e-7, 5e-7,1e-6]\n",
    "regularization_strengths = [2.5e4, 5e4,1e3]\n",
    "\n",
    "################################################################################\n",
    "# TODO:                                                                        #\n",
    "# Use the validation set to set the learning rate and regularization strength. #\n",
    "# This should be identical to the validation that you did for the SVM; save    #\n",
    "# the best trained softmax classifer in best_softmax.                          #\n",
    "################################################################################\n",
    "# *****START OF YOUR CODE (DO NOT DELETE/MODIFY THIS LINE)*****\n",
    "for lr in learning_rates:\n",
    "    for reg in regularization_strengths:\n",
    "        sft = Softmax()\n",
    "        loss_hist = sft.train(X_train, y_train, lr, reg,\n",
    "                      num_iters=1500, verbose=True)\n",
    "        y_train_pred = sft.predict(X_train)\n",
    "        y_val_pred = sft.predict(X_val)\n",
    "        train_acc = np.mean(y_train == y_train_pred)\n",
    "        val_acc = np.mean(y_val == y_val_pred)\n",
    "        results[(lr, reg)] = train_acc,val_acc\n",
    "        if(best_val < val_acc):\n",
    "            best_val = val_acc\n",
    "            best_softmax = sft\n",
    "\n",
    "pass\n",
    "\n",
    "# *****END OF YOUR CODE (DO NOT DELETE/MODIFY THIS LINE)*****\n",
    "    \n",
    "# Print out results.\n",
    "for lr, reg in sorted(results):\n",
    "    train_accuracy, val_accuracy = results[(lr, reg)]\n",
    "    print('lr %e reg %e train accuracy: %f val accuracy: %f' % (\n",
    "                lr, reg, train_accuracy, val_accuracy))\n",
    "    \n",
    "print('best validation accuracy achieved during cross-validation: %f' % best_val)"
   ]
  },
  {
   "cell_type": "code",
   "execution_count": 93,
   "metadata": {},
   "outputs": [
    {
     "name": "stdout",
     "output_type": "stream",
     "text": [
      "softmax on raw pixels final test set accuracy: 0.341000\n"
     ]
    }
   ],
   "source": [
    "# evaluate on test set\n",
    "# Evaluate the best softmax on test set\n",
    "y_test_pred = best_softmax.predict(X_test)\n",
    "test_accuracy = np.mean(y_test == y_test_pred)\n",
    "print('softmax on raw pixels final test set accuracy: %f' % (test_accuracy, ))"
   ]
  },
  {
   "cell_type": "markdown",
   "metadata": {
    "tags": [
     "pdf-inline"
    ]
   },
   "source": [
    "**Inline Question 2** - *True or False*\n",
    "\n",
    "Suppose the overall training loss is defined as the sum of the per-datapoint loss over all training examples. It is possible to add a new datapoint to a training set that would leave the SVM loss unchanged, but this is not the case with the Softmax classifier loss.\n",
    "\n",
    "$\\color{blue}{\\textit Your Answer:}$\n",
    "\n",
    "\n",
    "$\\color{blue}{\\textit Your Explanation:}$\n",
    "\n"
   ]
  },
  {
   "cell_type": "code",
   "execution_count": 94,
   "metadata": {},
   "outputs": [
    {
     "data": {
      "image/png": "[encoded data removed]",
      "text/plain": [
       "<Figure size 432x288 with 10 Axes>"
      ]
     },
     "metadata": {
      "needs_background": "light"
     },
     "output_type": "display_data"
    }
   ],
   "source": [
    "# Visualize the learned weights for each class\n",
    "w = best_softmax.W[:-1,:] # strip out the bias\n",
    "w = w.reshape(32, 32, 3, 10)\n",
    "\n",
    "w_min, w_max = np.min(w), np.max(w)\n",
    "\n",
    "classes = ['plane', 'car', 'bird', 'cat', 'deer', 'dog', 'frog', 'horse', 'ship', 'truck']\n",
    "for i in range(10):\n",
    "    plt.subplot(2, 5, i + 1)\n",
    "    \n",
    "    # Rescale the weights to be between 0 and 255\n",
    "    wimg = 255.0 * (w[:, :, :, i].squeeze() - w_min) / (w_max - w_min)\n",
    "    plt.imshow(wimg.astype('uint8'))\n",
    "    plt.axis('off')\n",
    "    plt.title(classes[i])"
   ]
  }
 ],
 "metadata": {
  "kernelspec": {
   "display_name": "Python 3",
   "language": "python",
   "name": "python3"
  },
  "language_info": {
   "codemirror_mode": {
    "name": "ipython",
    "version": 3
   },
   "file_extension": ".py",
   "mimetype": "text/x-python",
   "name": "python",
   "nbconvert_exporter": "python",
   "pygments_lexer": "ipython3",
   "version": "3.7.0"
  }
 },
 "nbformat": 4,
 "nbformat_minor": 1
}
